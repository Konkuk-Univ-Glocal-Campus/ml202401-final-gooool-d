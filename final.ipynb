{
 "cells": [
  {
   "cell_type": "markdown",
   "metadata": {},
   "source": [
    "<h1>기계학습(8585) 기말고사 대체 과제</h1>\n",
    "\n",
    "**<div style=\"text-align: right\"> 201920829 금동호 </div>**\n",
    "\n",
    "**<h4>목표:</h4>**\n",
    "<div>\n",
    "본 과제에서는 주어진 물건 구매 후 리뷰에 대한 텍스트 데이터를 감성으로 분류하는 감성 분석 시스템을 개발해본다.\n",
    "학번이 홀수로 끝나므로, amazon_uk_shoes 리뷰 데이터셋을 사용한다.\n",
    "</div>\n"
   ]
  },
  {
   "cell_type": "markdown",
   "metadata": {},
   "source": [
    "**<h4>1. 데이터 준비</h4>**\n",
    "\n",
    "<div>\n",
    "라이브러리 준비\n",
    "</div>\n"
   ]
  },
  {
   "cell_type": "code",
   "execution_count": 1,
   "metadata": {},
   "outputs": [
    {
     "name": "stdout",
     "output_type": "stream",
     "text": [
      "Requirement already satisfied: matplotlib in c:\\users\\g_keum523\\appdata\\local\\programs\\python\\python312\\lib\\site-packages (3.9.0)\n",
      "Requirement already satisfied: contourpy>=1.0.1 in c:\\users\\g_keum523\\appdata\\local\\programs\\python\\python312\\lib\\site-packages (from matplotlib) (1.2.1)\n",
      "Requirement already satisfied: cycler>=0.10 in c:\\users\\g_keum523\\appdata\\roaming\\python\\python312\\site-packages (from matplotlib) (0.10.0)\n",
      "Requirement already satisfied: fonttools>=4.22.0 in c:\\users\\g_keum523\\appdata\\local\\programs\\python\\python312\\lib\\site-packages (from matplotlib) (4.51.0)\n",
      "Requirement already satisfied: kiwisolver>=1.3.1 in c:\\users\\g_keum523\\appdata\\local\\programs\\python\\python312\\lib\\site-packages (from matplotlib) (1.4.5)\n",
      "Requirement already satisfied: numpy>=1.23 in c:\\users\\g_keum523\\appdata\\local\\programs\\python\\python312\\lib\\site-packages (from matplotlib) (1.26.4)\n",
      "Requirement already satisfied: packaging>=20.0 in c:\\users\\g_keum523\\appdata\\roaming\\python\\python312\\site-packages (from matplotlib) (24.0)\n",
      "Requirement already satisfied: pillow>=8 in c:\\users\\g_keum523\\appdata\\local\\programs\\python\\python312\\lib\\site-packages (from matplotlib) (10.3.0)\n",
      "Requirement already satisfied: pyparsing>=2.3.1 in c:\\users\\g_keum523\\appdata\\local\\programs\\python\\python312\\lib\\site-packages (from matplotlib) (3.1.2)\n",
      "Requirement already satisfied: python-dateutil>=2.7 in c:\\users\\g_keum523\\appdata\\roaming\\python\\python312\\site-packages (from matplotlib) (2.9.0.post0)\n",
      "Requirement already satisfied: six in c:\\users\\g_keum523\\appdata\\roaming\\python\\python312\\site-packages (from cycler>=0.10->matplotlib) (1.16.0)\n",
      "Note: you may need to restart the kernel to use updated packages.\n",
      "Requirement already satisfied: pandas in c:\\users\\g_keum523\\appdata\\local\\programs\\python\\python312\\lib\\site-packages (2.2.2)\n",
      "Requirement already satisfied: numpy>=1.26.0 in c:\\users\\g_keum523\\appdata\\local\\programs\\python\\python312\\lib\\site-packages (from pandas) (1.26.4)\n",
      "Requirement already satisfied: python-dateutil>=2.8.2 in c:\\users\\g_keum523\\appdata\\roaming\\python\\python312\\site-packages (from pandas) (2.9.0.post0)\n",
      "Requirement already satisfied: pytz>=2020.1 in c:\\users\\g_keum523\\appdata\\local\\programs\\python\\python312\\lib\\site-packages (from pandas) (2024.1)\n",
      "Requirement already satisfied: tzdata>=2022.7 in c:\\users\\g_keum523\\appdata\\local\\programs\\python\\python312\\lib\\site-packages (from pandas) (2024.1)\n",
      "Requirement already satisfied: six>=1.5 in c:\\users\\g_keum523\\appdata\\roaming\\python\\python312\\site-packages (from python-dateutil>=2.8.2->pandas) (1.16.0)\n",
      "Note: you may need to restart the kernel to use updated packages.\n",
      "Requirement already satisfied: numpy in c:\\users\\g_keum523\\appdata\\local\\programs\\python\\python312\\lib\\site-packages (1.26.4)\n",
      "Note: you may need to restart the kernel to use updated packages.\n"
     ]
    }
   ],
   "source": [
    "%pip install matplotlib\n",
    "%pip install pandas\n",
    "%pip install numpy\n",
    "\n",
    "import numpy as np\n",
    "import pandas as pd\n",
    "import matplotlib.pyplot as plt\n",
    "import time\n",
    "import ast"
   ]
  },
  {
   "cell_type": "markdown",
   "metadata": {},
   "source": [
    "**<h4>1. 데이터셋 준비</h4>**\n",
    "\n",
    "<div>\n",
    "초기 데이터 로드\n",
    "</div>\n"
   ]
  },
  {
   "cell_type": "code",
   "execution_count": 2,
   "metadata": {},
   "outputs": [
    {
     "data": {
      "text/html": [
       "<div>\n",
       "<style scoped>\n",
       "    .dataframe tbody tr th:only-of-type {\n",
       "        vertical-align: middle;\n",
       "    }\n",
       "\n",
       "    .dataframe tbody tr th {\n",
       "        vertical-align: top;\n",
       "    }\n",
       "\n",
       "    .dataframe thead th {\n",
       "        text-align: right;\n",
       "    }\n",
       "</style>\n",
       "<table border=\"1\" class=\"dataframe\">\n",
       "  <thead>\n",
       "    <tr style=\"text-align: right;\">\n",
       "      <th></th>\n",
       "      <th>url</th>\n",
       "      <th>product_name</th>\n",
       "      <th>reviewer_name</th>\n",
       "      <th>review_title</th>\n",
       "      <th>review_text</th>\n",
       "      <th>review_rating</th>\n",
       "      <th>verified_purchase</th>\n",
       "      <th>review_date</th>\n",
       "      <th>helpful_count</th>\n",
       "      <th>uniq_id</th>\n",
       "      <th>scraped_at</th>\n",
       "    </tr>\n",
       "  </thead>\n",
       "  <tbody>\n",
       "    <tr>\n",
       "      <th>0</th>\n",
       "      <td>https://www.amazon.co.uk/dp/B07SBX32T5</td>\n",
       "      <td>Klasified Women's Transparent Clear Sneaker Sh...</td>\n",
       "      <td>Jocelyn McSayles</td>\n",
       "      <td>Love em</td>\n",
       "      <td>Love these. Was looking for converses and thes...</td>\n",
       "      <td>5.0</td>\n",
       "      <td>True</td>\n",
       "      <td>Reviewed in the United States on 2 June 2020</td>\n",
       "      <td>2 people found this helpful</td>\n",
       "      <td>36eae4e5-2894-5279-a0b7-d2b330e2b814</td>\n",
       "      <td>24/12/2021 02:26:25</td>\n",
       "    </tr>\n",
       "    <tr>\n",
       "      <th>1</th>\n",
       "      <td>https://www.amazon.co.uk/dp/B07SBX32T5</td>\n",
       "      <td>Klasified Women's Transparent Clear Sneaker Sh...</td>\n",
       "      <td>Kenia Rivera</td>\n",
       "      <td>The plastic ripped</td>\n",
       "      <td>The shoes are very cute, but after the 2nd day...</td>\n",
       "      <td>2.0</td>\n",
       "      <td>True</td>\n",
       "      <td>Reviewed in the United States on 28 October 2021</td>\n",
       "      <td>NaN</td>\n",
       "      <td>f4778bb8-3070-5cb1-b5aa-ffce41a97b57</td>\n",
       "      <td>24/12/2021 02:26:25</td>\n",
       "    </tr>\n",
       "    <tr>\n",
       "      <th>2</th>\n",
       "      <td>https://www.amazon.co.uk/dp/B07SBX32T5</td>\n",
       "      <td>Klasified Women's Transparent Clear Sneaker Sh...</td>\n",
       "      <td>Chris Souza</td>\n",
       "      <td>Good quality</td>\n",
       "      <td>Good quality</td>\n",
       "      <td>5.0</td>\n",
       "      <td>True</td>\n",
       "      <td>Reviewed in the United States on 20 January 2021</td>\n",
       "      <td>NaN</td>\n",
       "      <td>db5a7525-d40b-5265-84d8-df4f29837a3b</td>\n",
       "      <td>24/12/2021 02:26:25</td>\n",
       "    </tr>\n",
       "    <tr>\n",
       "      <th>3</th>\n",
       "      <td>https://www.amazon.co.uk/dp/B07SBX32T5</td>\n",
       "      <td>Klasified Women's Transparent Clear Sneaker Sh...</td>\n",
       "      <td>Amazon Customer</td>\n",
       "      <td>Good</td>\n",
       "      <td>Great</td>\n",
       "      <td>5.0</td>\n",
       "      <td>True</td>\n",
       "      <td>Reviewed in the United States on 22 April 2021</td>\n",
       "      <td>NaN</td>\n",
       "      <td>75a42851-6462-54b5-988a-27d336221943</td>\n",
       "      <td>24/12/2021 02:26:25</td>\n",
       "    </tr>\n",
       "    <tr>\n",
       "      <th>4</th>\n",
       "      <td>https://www.amazon.co.uk/dp/B08SW434MG</td>\n",
       "      <td>GUESS Women's Bradly Gymnastics Shoe, White, 7 UK</td>\n",
       "      <td>Graziella</td>\n",
       "      <td>PERFETTE!!</td>\n",
       "      <td>Ho scelto il modello bianco con rifinitura die...</td>\n",
       "      <td>5.0</td>\n",
       "      <td>True</td>\n",
       "      <td>Reviewed in Italy on 2 April 2021</td>\n",
       "      <td>2 people found this helpful</td>\n",
       "      <td>232dee43-849e-5d06-ba05-efb3f4814714</td>\n",
       "      <td>24/12/2021 02:26:25</td>\n",
       "    </tr>\n",
       "  </tbody>\n",
       "</table>\n",
       "</div>"
      ],
      "text/plain": [
       "                                      url  \\\n",
       "0  https://www.amazon.co.uk/dp/B07SBX32T5   \n",
       "1  https://www.amazon.co.uk/dp/B07SBX32T5   \n",
       "2  https://www.amazon.co.uk/dp/B07SBX32T5   \n",
       "3  https://www.amazon.co.uk/dp/B07SBX32T5   \n",
       "4  https://www.amazon.co.uk/dp/B08SW434MG   \n",
       "\n",
       "                                        product_name     reviewer_name  \\\n",
       "0  Klasified Women's Transparent Clear Sneaker Sh...  Jocelyn McSayles   \n",
       "1  Klasified Women's Transparent Clear Sneaker Sh...      Kenia Rivera   \n",
       "2  Klasified Women's Transparent Clear Sneaker Sh...       Chris Souza   \n",
       "3  Klasified Women's Transparent Clear Sneaker Sh...   Amazon Customer   \n",
       "4  GUESS Women's Bradly Gymnastics Shoe, White, 7 UK         Graziella   \n",
       "\n",
       "         review_title                                        review_text  \\\n",
       "0             Love em  Love these. Was looking for converses and thes...   \n",
       "1  The plastic ripped  The shoes are very cute, but after the 2nd day...   \n",
       "2        Good quality                                       Good quality   \n",
       "3                Good                                              Great   \n",
       "4          PERFETTE!!  Ho scelto il modello bianco con rifinitura die...   \n",
       "\n",
       "   review_rating  verified_purchase  \\\n",
       "0            5.0               True   \n",
       "1            2.0               True   \n",
       "2            5.0               True   \n",
       "3            5.0               True   \n",
       "4            5.0               True   \n",
       "\n",
       "                                        review_date  \\\n",
       "0      Reviewed in the United States on 2 June 2020   \n",
       "1  Reviewed in the United States on 28 October 2021   \n",
       "2  Reviewed in the United States on 20 January 2021   \n",
       "3    Reviewed in the United States on 22 April 2021   \n",
       "4                 Reviewed in Italy on 2 April 2021   \n",
       "\n",
       "                 helpful_count                               uniq_id  \\\n",
       "0  2 people found this helpful  36eae4e5-2894-5279-a0b7-d2b330e2b814   \n",
       "1                          NaN  f4778bb8-3070-5cb1-b5aa-ffce41a97b57   \n",
       "2                          NaN  db5a7525-d40b-5265-84d8-df4f29837a3b   \n",
       "3                          NaN  75a42851-6462-54b5-988a-27d336221943   \n",
       "4  2 people found this helpful  232dee43-849e-5d06-ba05-efb3f4814714   \n",
       "\n",
       "            scraped_at  \n",
       "0  24/12/2021 02:26:25  \n",
       "1  24/12/2021 02:26:25  \n",
       "2  24/12/2021 02:26:25  \n",
       "3  24/12/2021 02:26:25  \n",
       "4  24/12/2021 02:26:25  "
      ]
     },
     "execution_count": 2,
     "metadata": {},
     "output_type": "execute_result"
    }
   ],
   "source": [
    "df = pd.read_csv('./amazon_uk_shoes_products_dataset_2021_12.csv')\n",
    "df.head()"
   ]
  },
  {
   "cell_type": "code",
   "execution_count": 3,
   "metadata": {},
   "outputs": [
    {
     "data": {
      "text/plain": [
       "url                     0\n",
       "product_name            0\n",
       "reviewer_name           0\n",
       "review_title            1\n",
       "review_text             9\n",
       "review_rating           0\n",
       "verified_purchase       0\n",
       "review_date             0\n",
       "helpful_count        4870\n",
       "uniq_id                 0\n",
       "scraped_at              0\n",
       "dtype: int64"
      ]
     },
     "execution_count": 3,
     "metadata": {},
     "output_type": "execute_result"
    }
   ],
   "source": [
    "df.isnull().sum() # 결측치 존재 행 확인 "
   ]
  },
  {
   "cell_type": "code",
   "execution_count": 4,
   "metadata": {},
   "outputs": [
    {
     "data": {
      "text/plain": [
       "url                  0\n",
       "product_name         0\n",
       "reviewer_name        0\n",
       "review_title         0\n",
       "review_text          0\n",
       "review_rating        0\n",
       "verified_purchase    0\n",
       "review_date          0\n",
       "uniq_id              0\n",
       "scraped_at           0\n",
       "dtype: int64"
      ]
     },
     "execution_count": 4,
     "metadata": {},
     "output_type": "execute_result"
    }
   ],
   "source": [
    "df = df.drop([\"helpful_count\"], axis=1) # '리뷰가 도움이 된 수' 열 제거\n",
    "df = df.dropna(axis=0) # 결측치가 존재하는 행 제거\n",
    "\n",
    "df.isnull().sum() # 결측치 존재 여부 재확인"
   ]
  },
  {
   "cell_type": "code",
   "execution_count": 5,
   "metadata": {},
   "outputs": [
    {
     "data": {
      "text/plain": [
       "url                  6813\n",
       "product_name         6813\n",
       "reviewer_name        6813\n",
       "review_title         6813\n",
       "review_text          6813\n",
       "review_rating        6813\n",
       "verified_purchase    6813\n",
       "review_date          6813\n",
       "uniq_id              6813\n",
       "scraped_at           6813\n",
       "dtype: int64"
      ]
     },
     "execution_count": 5,
     "metadata": {},
     "output_type": "execute_result"
    }
   ],
   "source": [
    "# 결측치 제거 후 총 데이터 갯수 확인\n",
    "df.count()"
   ]
  },
  {
   "cell_type": "code",
   "execution_count": 6,
   "metadata": {},
   "outputs": [
    {
     "data": {
      "text/html": [
       "<div>\n",
       "<style scoped>\n",
       "    .dataframe tbody tr th:only-of-type {\n",
       "        vertical-align: middle;\n",
       "    }\n",
       "\n",
       "    .dataframe tbody tr th {\n",
       "        vertical-align: top;\n",
       "    }\n",
       "\n",
       "    .dataframe thead th {\n",
       "        text-align: right;\n",
       "    }\n",
       "</style>\n",
       "<table border=\"1\" class=\"dataframe\">\n",
       "  <thead>\n",
       "    <tr style=\"text-align: right;\">\n",
       "      <th></th>\n",
       "      <th>product_name</th>\n",
       "      <th>reviewer_name</th>\n",
       "      <th>review_title</th>\n",
       "      <th>review_text</th>\n",
       "      <th>review_rating</th>\n",
       "    </tr>\n",
       "  </thead>\n",
       "  <tbody>\n",
       "    <tr>\n",
       "      <th>0</th>\n",
       "      <td>Klasified Women's Transparent Clear Sneaker Sh...</td>\n",
       "      <td>Jocelyn McSayles</td>\n",
       "      <td>Love em</td>\n",
       "      <td>Love these. Was looking for converses and thes...</td>\n",
       "      <td>5.0</td>\n",
       "    </tr>\n",
       "    <tr>\n",
       "      <th>1</th>\n",
       "      <td>Klasified Women's Transparent Clear Sneaker Sh...</td>\n",
       "      <td>Kenia Rivera</td>\n",
       "      <td>The plastic ripped</td>\n",
       "      <td>The shoes are very cute, but after the 2nd day...</td>\n",
       "      <td>2.0</td>\n",
       "    </tr>\n",
       "    <tr>\n",
       "      <th>2</th>\n",
       "      <td>Klasified Women's Transparent Clear Sneaker Sh...</td>\n",
       "      <td>Chris Souza</td>\n",
       "      <td>Good quality</td>\n",
       "      <td>Good quality</td>\n",
       "      <td>5.0</td>\n",
       "    </tr>\n",
       "    <tr>\n",
       "      <th>3</th>\n",
       "      <td>Klasified Women's Transparent Clear Sneaker Sh...</td>\n",
       "      <td>Amazon Customer</td>\n",
       "      <td>Good</td>\n",
       "      <td>Great</td>\n",
       "      <td>5.0</td>\n",
       "    </tr>\n",
       "    <tr>\n",
       "      <th>4</th>\n",
       "      <td>GUESS Women's Bradly Gymnastics Shoe, White, 7 UK</td>\n",
       "      <td>Graziella</td>\n",
       "      <td>PERFETTE!!</td>\n",
       "      <td>Ho scelto il modello bianco con rifinitura die...</td>\n",
       "      <td>5.0</td>\n",
       "    </tr>\n",
       "  </tbody>\n",
       "</table>\n",
       "</div>"
      ],
      "text/plain": [
       "                                        product_name     reviewer_name  \\\n",
       "0  Klasified Women's Transparent Clear Sneaker Sh...  Jocelyn McSayles   \n",
       "1  Klasified Women's Transparent Clear Sneaker Sh...      Kenia Rivera   \n",
       "2  Klasified Women's Transparent Clear Sneaker Sh...       Chris Souza   \n",
       "3  Klasified Women's Transparent Clear Sneaker Sh...   Amazon Customer   \n",
       "4  GUESS Women's Bradly Gymnastics Shoe, White, 7 UK         Graziella   \n",
       "\n",
       "         review_title                                        review_text  \\\n",
       "0             Love em  Love these. Was looking for converses and thes...   \n",
       "1  The plastic ripped  The shoes are very cute, but after the 2nd day...   \n",
       "2        Good quality                                       Good quality   \n",
       "3                Good                                              Great   \n",
       "4          PERFETTE!!  Ho scelto il modello bianco con rifinitura die...   \n",
       "\n",
       "   review_rating  \n",
       "0            5.0  \n",
       "1            2.0  \n",
       "2            5.0  \n",
       "3            5.0  \n",
       "4            5.0  "
      ]
     },
     "execution_count": 6,
     "metadata": {},
     "output_type": "execute_result"
    }
   ],
   "source": [
    "# 데이터 프레임 내 불필요한 열 삭제\n",
    "df = df.drop([\"url\", \"verified_purchase\", \"uniq_id\", \"scraped_at\", \"review_date\"], axis=1) # 불필요한 열 삭제\n",
    "df.head()"
   ]
  },
  {
   "cell_type": "code",
   "execution_count": 7,
   "metadata": {},
   "outputs": [
    {
     "name": "stdout",
     "output_type": "stream",
     "text": [
      "Requirement already satisfied: nltk in c:\\users\\g_keum523\\appdata\\local\\programs\\python\\python312\\lib\\site-packages (3.8.1)\n",
      "Requirement already satisfied: click in c:\\users\\g_keum523\\appdata\\roaming\\python\\python312\\site-packages (from nltk) (8.1.7)\n",
      "Requirement already satisfied: joblib in c:\\users\\g_keum523\\appdata\\local\\programs\\python\\python312\\lib\\site-packages (from nltk) (1.4.2)\n",
      "Requirement already satisfied: regex>=2021.8.3 in c:\\users\\g_keum523\\appdata\\local\\programs\\python\\python312\\lib\\site-packages (from nltk) (2024.5.15)\n",
      "Requirement already satisfied: tqdm in c:\\users\\g_keum523\\appdata\\local\\programs\\python\\python312\\lib\\site-packages (from nltk) (4.66.4)\n",
      "Requirement already satisfied: colorama in c:\\users\\g_keum523\\appdata\\roaming\\python\\python312\\site-packages (from click->nltk) (0.4.6)\n",
      "Note: you may need to restart the kernel to use updated packages.\n"
     ]
    },
    {
     "name": "stderr",
     "output_type": "stream",
     "text": [
      "[nltk_data] Downloading package punkt to\n",
      "[nltk_data]     C:\\Users\\g_keum523\\AppData\\Roaming\\nltk_data...\n",
      "[nltk_data]   Package punkt is already up-to-date!\n",
      "[nltk_data] Downloading package stopwords to\n",
      "[nltk_data]     C:\\Users\\g_keum523\\AppData\\Roaming\\nltk_data...\n",
      "[nltk_data]   Package stopwords is already up-to-date!\n",
      "[nltk_data] Downloading package wordnet to\n",
      "[nltk_data]     C:\\Users\\g_keum523\\AppData\\Roaming\\nltk_data...\n",
      "[nltk_data]   Package wordnet is already up-to-date!\n"
     ]
    },
    {
     "data": {
      "text/html": [
       "<div>\n",
       "<style scoped>\n",
       "    .dataframe tbody tr th:only-of-type {\n",
       "        vertical-align: middle;\n",
       "    }\n",
       "\n",
       "    .dataframe tbody tr th {\n",
       "        vertical-align: top;\n",
       "    }\n",
       "\n",
       "    .dataframe thead th {\n",
       "        text-align: right;\n",
       "    }\n",
       "</style>\n",
       "<table border=\"1\" class=\"dataframe\">\n",
       "  <thead>\n",
       "    <tr style=\"text-align: right;\">\n",
       "      <th></th>\n",
       "      <th>product_name</th>\n",
       "      <th>reviewer_name</th>\n",
       "      <th>review_title</th>\n",
       "      <th>review_text</th>\n",
       "      <th>review_rating</th>\n",
       "      <th>title_token</th>\n",
       "      <th>text_token</th>\n",
       "    </tr>\n",
       "  </thead>\n",
       "  <tbody>\n",
       "    <tr>\n",
       "      <th>0</th>\n",
       "      <td>Klasified Women's Transparent Clear Sneaker Sh...</td>\n",
       "      <td>Jocelyn McSayles</td>\n",
       "      <td>love em</td>\n",
       "      <td>love looking converse half price unique ive ne...</td>\n",
       "      <td>5.0</td>\n",
       "      <td>love em</td>\n",
       "      <td>love looking converse half price unique ive ne...</td>\n",
       "    </tr>\n",
       "    <tr>\n",
       "      <th>1</th>\n",
       "      <td>Klasified Women's Transparent Clear Sneaker Sh...</td>\n",
       "      <td>Kenia Rivera</td>\n",
       "      <td>plastic ripped</td>\n",
       "      <td>shoe cute nd day wearing tongue started rippin...</td>\n",
       "      <td>2.0</td>\n",
       "      <td>plastic ripped</td>\n",
       "      <td>shoe cute nd day wearing tongue started rippin...</td>\n",
       "    </tr>\n",
       "    <tr>\n",
       "      <th>2</th>\n",
       "      <td>Klasified Women's Transparent Clear Sneaker Sh...</td>\n",
       "      <td>Chris Souza</td>\n",
       "      <td>good quality</td>\n",
       "      <td>good quality</td>\n",
       "      <td>5.0</td>\n",
       "      <td>good quality</td>\n",
       "      <td>good quality</td>\n",
       "    </tr>\n",
       "    <tr>\n",
       "      <th>3</th>\n",
       "      <td>Klasified Women's Transparent Clear Sneaker Sh...</td>\n",
       "      <td>Amazon Customer</td>\n",
       "      <td>good</td>\n",
       "      <td>great</td>\n",
       "      <td>5.0</td>\n",
       "      <td>good</td>\n",
       "      <td>great</td>\n",
       "    </tr>\n",
       "    <tr>\n",
       "      <th>4</th>\n",
       "      <td>GUESS Women's Bradly Gymnastics Shoe, White, 7 UK</td>\n",
       "      <td>Graziella</td>\n",
       "      <td>perfette</td>\n",
       "      <td>ho scelto il modello bianco con rifinitura die...</td>\n",
       "      <td>5.0</td>\n",
       "      <td>perfette</td>\n",
       "      <td>ho scelto il modello bianco con rifinitura die...</td>\n",
       "    </tr>\n",
       "  </tbody>\n",
       "</table>\n",
       "</div>"
      ],
      "text/plain": [
       "                                        product_name     reviewer_name  \\\n",
       "0  Klasified Women's Transparent Clear Sneaker Sh...  Jocelyn McSayles   \n",
       "1  Klasified Women's Transparent Clear Sneaker Sh...      Kenia Rivera   \n",
       "2  Klasified Women's Transparent Clear Sneaker Sh...       Chris Souza   \n",
       "3  Klasified Women's Transparent Clear Sneaker Sh...   Amazon Customer   \n",
       "4  GUESS Women's Bradly Gymnastics Shoe, White, 7 UK         Graziella   \n",
       "\n",
       "     review_title                                        review_text  \\\n",
       "0         love em  love looking converse half price unique ive ne...   \n",
       "1  plastic ripped  shoe cute nd day wearing tongue started rippin...   \n",
       "2    good quality                                       good quality   \n",
       "3            good                                              great   \n",
       "4        perfette  ho scelto il modello bianco con rifinitura die...   \n",
       "\n",
       "   review_rating     title_token  \\\n",
       "0            5.0         love em   \n",
       "1            2.0  plastic ripped   \n",
       "2            5.0    good quality   \n",
       "3            5.0            good   \n",
       "4            5.0        perfette   \n",
       "\n",
       "                                          text_token  \n",
       "0  love looking converse half price unique ive ne...  \n",
       "1  shoe cute nd day wearing tongue started rippin...  \n",
       "2                                       good quality  \n",
       "3                                              great  \n",
       "4  ho scelto il modello bianco con rifinitura die...  "
      ]
     },
     "execution_count": 7,
     "metadata": {},
     "output_type": "execute_result"
    }
   ],
   "source": [
    "%pip install nltk\n",
    "\n",
    "import re\n",
    "from nltk.corpus import stopwords\n",
    "from nltk.tokenize import word_tokenize\n",
    "from nltk.stem import WordNetLemmatizer, PorterStemmer\n",
    "import nltk\n",
    "\n",
    "nltk.download('punkt')\n",
    "nltk.download('stopwords')\n",
    "nltk.download('wordnet')\n",
    "\n",
    "# 전처리 함수\n",
    "def preprocess_text(text):\n",
    "    \n",
    "    # 노이즈 제거\n",
    "    text = text.lower()                  # 소문자로 변환\n",
    "    text = re.sub(r'\\d+', '', text)      # 숫자 제거\n",
    "    text = re.sub(r'\\s+', ' ', text)     # 불필요한 공백 제거\n",
    "    text = re.sub(r'[^\\w\\s]', '', text)  # 특수문자 제거\n",
    "\n",
    "    # 토큰화\n",
    "    tokens = word_tokenize(text)\n",
    "\n",
    "    # 불용어 제거\n",
    "    tokens = [word for word in tokens if word not in stopwords.words(\"english\")]\n",
    "\n",
    "    # 표제어 추출\n",
    "    lemmatizer = WordNetLemmatizer()\n",
    "    tokens = [lemmatizer.lemmatize(word) for word in tokens]  \n",
    "    return ' '.join(tokens)\n",
    "\n",
    "# 텍스트 전처리\n",
    "df[\"review_text\"] = df[\"review_text\"].apply(preprocess_text)\n",
    "df[\"review_title\"] = df[\"review_title\"].apply(preprocess_text)\n",
    "df[\"title_token\"] = df.review_title.apply(preprocess_text)\n",
    "df[\"text_token\"] = df.review_text.apply(preprocess_text)\n",
    "\n",
    "df.head()"
   ]
  },
  {
   "cell_type": "code",
   "execution_count": 8,
   "metadata": {},
   "outputs": [
    {
     "data": {
      "image/png": "[encoded data removed]",
      "text/plain": [
       "<Figure size 1000x600 with 1 Axes>"
      ]
     },
     "metadata": {},
     "output_type": "display_data"
    }
   ],
   "source": [
    "import matplotlib.pyplot as plt\n",
    "\n",
    "# 데이터 분포도 시각화\n",
    "plt.figure(figsize=(10, 6))\n",
    "plt.hist(df['review_rating'], bins=range(1, 7), color='gold', edgecolor='red', align='left')\n",
    "# 각 축과 그래프 제목 설정\n",
    "plt.xlabel('Rating')\n",
    "plt.ylabel('Frequency')\n",
    "plt.title('Distribution of Review Rating')\n",
    "plt.xticks(range(1, 6)) # Rating은 1~5의 값으로 존재\n",
    "plt.grid(axis='y')\n",
    "# 그래프 출력\n",
    "plt.show()"
   ]
  },
  {
   "cell_type": "code",
   "execution_count": 9,
   "metadata": {},
   "outputs": [
    {
     "name": "stderr",
     "output_type": "stream",
     "text": [
      "[nltk_data] Downloading package vader_lexicon to\n",
      "[nltk_data]     C:\\Users\\g_keum523\\AppData\\Roaming\\nltk_data...\n",
      "[nltk_data]   Package vader_lexicon is already up-to-date!\n"
     ]
    }
   ],
   "source": [
    "nltk.download(\"vader_lexicon\")\n",
    "from nltk.sentiment.vader import SentimentIntensityAnalyzer\n",
    "\n",
    "# VADER 초기화 후 감정 분석 기능 함수 정의\n",
    "vader_sentiment = SentimentIntensityAnalyzer() # VADER 초기화\n",
    "\n",
    "def vader_calc(review): # 감성 분석 함수 정의\n",
    "    return vader_sentiment.polarity_scores(review)[\"compound\"] # 데이터 감성 분석"
   ]
  },
  {
   "cell_type": "code",
   "execution_count": 10,
   "metadata": {},
   "outputs": [],
   "source": [
    "# logistic regression 적용을 위한 값 변환 함수 정의\n",
    "def vader_change_score(sentiment_score): # 이진값으로 감성 분석 결과를 변경\n",
    "    if sentiment_score >= 0.1: # 값이 0.1 이상이면 긍정, 나머지는 부정으로 처리\n",
    "        return 1  # 긍정\n",
    "    else:\n",
    "        return 0  # 부정"
   ]
  },
  {
   "cell_type": "code",
   "execution_count": 11,
   "metadata": {},
   "outputs": [],
   "source": [
    "#  감성 분석 도출 및 데이터 프레임에 계산 결과 추가\n",
    "df[\"title_score\"] = df.review_title.apply(vader_calc).round(2) # 소수점 두자리까지 계산\n",
    "df[\"text_score\"] = df.review_text.apply(vader_calc).round(2)"
   ]
  },
  {
   "cell_type": "code",
   "execution_count": 12,
   "metadata": {},
   "outputs": [],
   "source": [
    "df[\"title_score\"] = df.title_score.apply(vader_change_score) #title_score 값 이진화\n",
    "df[\"text_score\"] = df.text_score.apply(vader_change_score) # text_score 값 이진화"
   ]
  },
  {
   "cell_type": "code",
   "execution_count": 13,
   "metadata": {},
   "outputs": [
    {
     "data": {
      "text/html": [
       "<div>\n",
       "<style scoped>\n",
       "    .dataframe tbody tr th:only-of-type {\n",
       "        vertical-align: middle;\n",
       "    }\n",
       "\n",
       "    .dataframe tbody tr th {\n",
       "        vertical-align: top;\n",
       "    }\n",
       "\n",
       "    .dataframe thead th {\n",
       "        text-align: right;\n",
       "    }\n",
       "</style>\n",
       "<table border=\"1\" class=\"dataframe\">\n",
       "  <thead>\n",
       "    <tr style=\"text-align: right;\">\n",
       "      <th></th>\n",
       "      <th>product_name</th>\n",
       "      <th>text_token</th>\n",
       "      <th>text_score</th>\n",
       "    </tr>\n",
       "  </thead>\n",
       "  <tbody>\n",
       "    <tr>\n",
       "      <th>0</th>\n",
       "      <td>Klasified Women's Transparent Clear Sneaker Sh...</td>\n",
       "      <td>love looking converse half price unique ive ne...</td>\n",
       "      <td>1</td>\n",
       "    </tr>\n",
       "    <tr>\n",
       "      <th>1</th>\n",
       "      <td>Klasified Women's Transparent Clear Sneaker Sh...</td>\n",
       "      <td>shoe cute nd day wearing tongue started rippin...</td>\n",
       "      <td>1</td>\n",
       "    </tr>\n",
       "    <tr>\n",
       "      <th>2</th>\n",
       "      <td>Klasified Women's Transparent Clear Sneaker Sh...</td>\n",
       "      <td>good quality</td>\n",
       "      <td>1</td>\n",
       "    </tr>\n",
       "    <tr>\n",
       "      <th>3</th>\n",
       "      <td>Klasified Women's Transparent Clear Sneaker Sh...</td>\n",
       "      <td>great</td>\n",
       "      <td>1</td>\n",
       "    </tr>\n",
       "    <tr>\n",
       "      <th>4</th>\n",
       "      <td>GUESS Women's Bradly Gymnastics Shoe, White, 7 UK</td>\n",
       "      <td>ho scelto il modello bianco con rifinitura die...</td>\n",
       "      <td>0</td>\n",
       "    </tr>\n",
       "    <tr>\n",
       "      <th>...</th>\n",
       "      <td>...</td>\n",
       "      <td>...</td>\n",
       "      <td>...</td>\n",
       "    </tr>\n",
       "    <tr>\n",
       "      <th>6818</th>\n",
       "      <td>Clarks Vennor Wing, Men’s Low-Top Sneakers, Bl...</td>\n",
       "      <td>schicker schuh läuft sich gut</td>\n",
       "      <td>0</td>\n",
       "    </tr>\n",
       "    <tr>\n",
       "      <th>6819</th>\n",
       "      <td>Clarks Vennor Wing, Men’s Low-Top Sneakers, Bl...</td>\n",
       "      <td>mieux que je ne limaginais très bonne taille b...</td>\n",
       "      <td>0</td>\n",
       "    </tr>\n",
       "    <tr>\n",
       "      <th>6820</th>\n",
       "      <td>Rohde Men's Tivoli-H Mule, 82 Anthracite, 12.5 UK</td>\n",
       "      <td>habe sie al geschenk gekauft und sie sind sehr...</td>\n",
       "      <td>1</td>\n",
       "    </tr>\n",
       "    <tr>\n",
       "      <th>6821</th>\n",
       "      <td>Rohde Men's Tivoli-H Mule, 82 Anthracite, 12.5 UK</td>\n",
       "      <td>trage diese hausschuhe fast zwei monate jeden ...</td>\n",
       "      <td>0</td>\n",
       "    </tr>\n",
       "    <tr>\n",
       "      <th>6822</th>\n",
       "      <td>Rohde Men's Tivoli-H Mule, 82 Anthracite, 12.5 UK</td>\n",
       "      <td>die hausschuhe sind sehr warm und tolle leder ...</td>\n",
       "      <td>0</td>\n",
       "    </tr>\n",
       "  </tbody>\n",
       "</table>\n",
       "<p>6813 rows × 3 columns</p>\n",
       "</div>"
      ],
      "text/plain": [
       "                                           product_name  \\\n",
       "0     Klasified Women's Transparent Clear Sneaker Sh...   \n",
       "1     Klasified Women's Transparent Clear Sneaker Sh...   \n",
       "2     Klasified Women's Transparent Clear Sneaker Sh...   \n",
       "3     Klasified Women's Transparent Clear Sneaker Sh...   \n",
       "4     GUESS Women's Bradly Gymnastics Shoe, White, 7 UK   \n",
       "...                                                 ...   \n",
       "6818  Clarks Vennor Wing, Men’s Low-Top Sneakers, Bl...   \n",
       "6819  Clarks Vennor Wing, Men’s Low-Top Sneakers, Bl...   \n",
       "6820  Rohde Men's Tivoli-H Mule, 82 Anthracite, 12.5 UK   \n",
       "6821  Rohde Men's Tivoli-H Mule, 82 Anthracite, 12.5 UK   \n",
       "6822  Rohde Men's Tivoli-H Mule, 82 Anthracite, 12.5 UK   \n",
       "\n",
       "                                             text_token  text_score  \n",
       "0     love looking converse half price unique ive ne...           1  \n",
       "1     shoe cute nd day wearing tongue started rippin...           1  \n",
       "2                                          good quality           1  \n",
       "3                                                 great           1  \n",
       "4     ho scelto il modello bianco con rifinitura die...           0  \n",
       "...                                                 ...         ...  \n",
       "6818                      schicker schuh läuft sich gut           0  \n",
       "6819  mieux que je ne limaginais très bonne taille b...           0  \n",
       "6820  habe sie al geschenk gekauft und sie sind sehr...           1  \n",
       "6821  trage diese hausschuhe fast zwei monate jeden ...           0  \n",
       "6822  die hausschuhe sind sehr warm und tolle leder ...           0  \n",
       "\n",
       "[6813 rows x 3 columns]"
      ]
     },
     "execution_count": 13,
     "metadata": {},
     "output_type": "execute_result"
    }
   ],
   "source": [
    "df_review = df[['product_name', 'text_token', 'text_score']] # 필요한 데이터 열만 뽑아 새로운 데이터 프레임 생성\n",
    "df_review"
   ]
  },
  {
   "cell_type": "code",
   "execution_count": 14,
   "metadata": {},
   "outputs": [],
   "source": [
    "from sklearn.model_selection import train_test_split\n",
    "from sklearn.feature_extraction.text import TfidfVectorizer \n",
    "from sklearn.linear_model import LogisticRegression\n",
    "from sklearn.model_selection import GridSearchCV\n",
    "from sklearn.metrics import accuracy_score, precision_score, recall_score, f1_score, roc_auc_score, roc_curve\n",
    "from sklearn.metrics import confusion_matrix, classification_report"
   ]
  },
  {
   "cell_type": "code",
   "execution_count": 15,
   "metadata": {},
   "outputs": [],
   "source": [
    "# 데이터 지정\n",
    "y = df['text_score']\n",
    "\n",
    "# TF-IDF 벡터화\n",
    "vectorizer = TfidfVectorizer(max_features=1000) # TF-IDF 벡터화\n",
    "x = vectorizer.fit_transform(df['text_token']) # text_token을 벡터화한 값 저장"
   ]
  },
  {
   "cell_type": "code",
   "execution_count": 16,
   "metadata": {},
   "outputs": [],
   "source": [
    "# 학습 데이터와 테스트 데이터로 분할 진행\n",
    "x_train, x_test, y_train, y_test = train_test_split(x, y, test_size=0.2, random_state=22)"
   ]
  },
  {
   "cell_type": "code",
   "execution_count": 17,
   "metadata": {},
   "outputs": [
    {
     "name": "stdout",
     "output_type": "stream",
     "text": [
      "Best parameters: {'C': 10}\n",
      "Test Accuracy: 0.9236977256052825\n"
     ]
    }
   ],
   "source": [
    "model = LogisticRegression()\n",
    "\n",
    "# 하이퍼파라미터 그리드 설정\n",
    "param_grid = {'C': [0.001, 0.01, 0.1, 1, 10, 100]} # 하이퍼파라미터 값을 0.001 ~ 100까지 소수점 단위로 지정\n",
    "\n",
    "# 그리드 서치를 사용하여 최적 하이퍼파라미터 탐색\n",
    "grid_search = GridSearchCV(model, param_grid, cv=5, scoring='accuracy') # 그리드 서치 정의, 교차 검증을 위한 fold 횟수는 5회로 설정\n",
    "grid_search.fit(x_train, y_train) # 그리드 서치 진행\n",
    "\n",
    "# 최적 하이퍼파라미터 값과 테스트 정확도 출력\n",
    "print(\"Best parameters:\", grid_search.best_params_)\n",
    "print(\"Test Accuracy:\", grid_search.score(x_test, y_test)) "
   ]
  },
  {
   "cell_type": "code",
   "execution_count": 18,
   "metadata": {},
   "outputs": [],
   "source": [
    "# 최적 모델을 사용 데이터 학습 진행\n",
    "model = grid_search.best_estimator_ # 위에서 C:10 하이퍼파라미터 값을 가진 모델을 model에 저장\n",
    "model.fit(x_train, y_train) # 학습 진행\n",
    "\n",
    "# 테스트 데이터에 대해 예측\n",
    "ytrain_pred = model.predict(x_train)\n",
    "y_pred = model.predict(x_test)"
   ]
  },
  {
   "cell_type": "code",
   "execution_count": 19,
   "metadata": {},
   "outputs": [
    {
     "name": "stdout",
     "output_type": "stream",
     "text": [
      "Accuracy: 0.9236977256052825\n",
      "Precision: 0.9239480534452297\n",
      "Recall: 0.9236977256052825\n",
      "F1 Score: 0.9237725347067293\n",
      "ROC-AUC Score: 0.9232391243260332\n",
      "Classification Report:\n",
      "              precision    recall  f1-score   support\n",
      "\n",
      "           0       0.90      0.92      0.91       587\n",
      "           1       0.94      0.93      0.93       776\n",
      "\n",
      "    accuracy                           0.92      1363\n",
      "   macro avg       0.92      0.92      0.92      1363\n",
      "weighted avg       0.92      0.92      0.92      1363\n",
      "\n"
     ]
    }
   ],
   "source": [
    "from sklearn.metrics import accuracy_score, precision_score, recall_score, f1_score, roc_auc_score, roc_curve, auc\n",
    "from sklearn.metrics import confusion_matrix, classification_report,ConfusionMatrixDisplay\n",
    "\n",
    "# 정확도 평가\n",
    "accuracy = accuracy_score(y_test, y_pred) # 정확도 계산\n",
    "print(\"Accuracy:\", accuracy)\n",
    "\n",
    "# 정밀도 평가\n",
    "precision = precision_score(y_test, y_pred, average='weighted')  # 정밀도 계산\n",
    "print(\"Precision:\", precision)\n",
    "\n",
    "# 재현율 평가\n",
    "recall = recall_score(y_test, y_pred, average='weighted')  # 재현율 계산\n",
    "print(\"Recall:\", recall)\n",
    "\n",
    "# F1 점수 평가\n",
    "f1 = f1_score(y_test, y_pred, average='weighted')  # F1 점수 계산\n",
    "print(\"F1 Score:\", f1)\n",
    "\n",
    "# ROC-AUC 점수 계산\n",
    "roc_auc = roc_auc_score(y_test, y_pred)  # roc-auc 계산\n",
    "print(\"ROC-AUC Score:\", roc_auc)\n",
    "\n",
    "# 분류 보고서 출력\n",
    "class_report = classification_report(y_test, y_pred)  # 전체 모델 분류 보고서 도출\n",
    "print(\"Classification Report:\")\n",
    "print(class_report)"
   ]
  },
  {
   "cell_type": "markdown",
   "metadata": {},
   "source": [
    "모델 평가 결과는 다음과 같다.\n",
    "\n",
    "**<div>1. 정확도 : 0.9236 </div>**\n",
    "\n",
    "&ensp;&ensp;&ensp;&ensp;전체 예측 중 실제와 같이 예측한 비율\n",
    "\n",
    "**<div>2. 정밀도 : 0.9239 </div>**\n",
    "\n",
    "&ensp;&ensp;&ensp;&ensp;모델이 양성으로 예측한 경우 중 실제로 양성인 비율\n",
    "\n",
    "**<div>3. 재현율 : 0.9236 </div>**\n",
    "\n",
    "&ensp;&ensp;&ensp;&ensp;실제로 양성인 데이터 중 모델이 양성으로 예측한 비율\n",
    "\n",
    "**<div>4. F1 점수 : 0.9237 </div>**\n",
    "\n",
    "&ensp;&ensp;&ensp;&ensp;정밀도와 재현율의 조화 평균\n",
    "\n",
    "**<div>5. ROC-AUC 점수 : 0.9232 </div>**\n",
    "\n",
    "&ensp;&ensp;&ensp;&ensp;ROC 곡선 아래의 면적의 값으로, 1에 가까울수록 좋은 성능을 의미\n",
    "<br></br>\n",
    "\n",
    "\n",
    "\n",
    "**<h5>Classification Report를 보면 긍정 감성과 부정 감성 모두 원활히 학습되었음을 알 수 있다. 다만 앞서 언급하였듯, 역시 긍정 감성이 부정 감성에 비해 미세하게 잘 학습됐음을 알 수 있다.</h5>**\n"
   ]
  },
  {
   "cell_type": "code",
   "execution_count": 20,
   "metadata": {},
   "outputs": [
    {
     "data": {
      "image/png": "[encoded data removed]",
      "text/plain": [
       "<Figure size 640x480 with 2 Axes>"
      ]
     },
     "metadata": {},
     "output_type": "display_data"
    }
   ],
   "source": [
    "cm = confusion_matrix(y_test, y_pred, labels=[0,1])\n",
    "display = ConfusionMatrixDisplay(confusion_matrix=cm, display_labels=[0,1])\n",
    "display.plot()\n",
    "plt.title(\"Confusion Matrix\")\n",
    "plt.show()"
   ]
  },
  {
   "cell_type": "markdown",
   "metadata": {},
   "source": [
    "혼돈 행렬을 보면, 긍정 응답의 경우 719:57로, 부정 응답의 경우 540:47로 학습 결과가 양호함을 알 수 있다."
   ]
  },
  {
   "cell_type": "code",
   "execution_count": 21,
   "metadata": {},
   "outputs": [
    {
     "name": "stderr",
     "output_type": "stream",
     "text": [
      "C:\\Users\\g_keum523\\AppData\\Local\\Temp\\ipykernel_21304\\495367606.py:8: UserWarning: linestyle is redundantly defined by the 'linestyle' keyword argument and the fmt string \"o--\" (-> linestyle='--'). The keyword argument will take precedence.\n",
      "  plt.plot([0, 1], [0, 1], 'o--', color=\"blue\", linestyle=\"--\", label=f\"ROC curve (area: {roc_auc:.2f})\")\n"
     ]
    },
    {
     "data": {
      "image/png": "[encoded data removed]",
      "text/plain": [
       "<Figure size 800x600 with 1 Axes>"
      ]
     },
     "metadata": {},
     "output_type": "display_data"
    }
   ],
   "source": [
    "# ROC 곡선 계산\n",
    "fpr, tpr, thresholds = roc_curve(y_test, y_pred)\n",
    "# ROC 곡선 아래 면적\n",
    "roc_auc = auc(fpr, tpr)\n",
    "\n",
    "plt.figure(figsize=(8, 6))\n",
    "plt.plot(fpr, tpr, color=\"orange\")\n",
    "plt.plot([0, 1], [0, 1], 'o--', color=\"blue\", linestyle=\"--\", label=f\"ROC curve (area: {roc_auc:.2f})\") \n",
    "plt.xlabel(\"FP Rate\")\n",
    "plt.ylabel(\"TP Rate\")\n",
    "plt.title('ROC Curve', fontsize=20)\n",
    "plt.legend(loc='lower right')\n",
    "plt.show()"
   ]
  },
  {
   "cell_type": "markdown",
   "metadata": {},
   "source": [
    "마지막으로 ROC 곡선을 보자. ROC 곡선은 왼쪽 모서리에 그래프가 가까울수록 학습이 잘 이루어졌다고 여긴다. 또한 ROC-AUC의 값이 1에 가까울수록 학습이 잘 이루어졌다고 본다. 이러한 점을 고려하면 해당 학습 과정이 원활히 이루어졌음을 알 수 있다. 따라서 언더피팅이나 오버피팅의 가능성은 낮다고 볼 수 있겠다."
   ]
  }
 ],
 "metadata": {
  "kernelspec": {
   "display_name": "Python 3",
   "language": "python",
   "name": "python3"
  },
  "language_info": {
   "codemirror_mode": {
    "name": "ipython",
    "version": 3
   },
   "file_extension": ".py",
   "mimetype": "text/x-python",
   "name": "python",
   "nbconvert_exporter": "python",
   "pygments_lexer": "ipython3",
   "version": "3.12.3"
  }
 },
 "nbformat": 4,
 "nbformat_minor": 2
}
